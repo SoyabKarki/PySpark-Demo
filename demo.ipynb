{
 "cells": [
  {
   "cell_type": "markdown",
   "id": "751e1fbf-0e3c-46f4-b95b-b3cd4abef6e3",
   "metadata": {},
   "source": [
    "### Dependencies"
   ]
  },
  {
   "cell_type": "code",
   "execution_count": 1,
   "id": "8476e607-8797-4583-af43-fbaf3f5a417b",
   "metadata": {
    "scrolled": true
   },
   "outputs": [
    {
     "name": "stdout",
     "output_type": "stream",
     "text": [
      "Collecting pyspark\n",
      "  Downloading pyspark-3.5.1.tar.gz (317.0 MB)\n",
      "     ---------------------------------------- 0.0/317.0 MB ? eta -:--:--\n",
      "     ---------------------------------------- 0.0/317.0 MB ? eta -:--:--\n",
      "     -------------------------------------- 0.0/317.0 MB 262.6 kB/s eta 0:20:08\n",
      "     -------------------------------------- 0.1/317.0 MB 655.4 kB/s eta 0:08:04\n",
      "     ---------------------------------------- 0.3/317.0 MB 1.3 MB/s eta 0:04:01\n",
      "     ---------------------------------------- 0.6/317.0 MB 2.5 MB/s eta 0:02:10\n",
      "     ---------------------------------------- 1.2/317.0 MB 4.2 MB/s eta 0:01:17\n",
      "     ---------------------------------------- 2.3/317.0 MB 6.9 MB/s eta 0:00:46\n",
      "      -------------------------------------- 4.5/317.0 MB 12.0 MB/s eta 0:00:27\n",
      "      -------------------------------------- 5.7/317.0 MB 13.6 MB/s eta 0:00:23\n",
      "      -------------------------------------- 6.8/317.0 MB 14.6 MB/s eta 0:00:22\n",
      "     - ------------------------------------- 9.1/317.0 MB 17.6 MB/s eta 0:00:18\n",
      "     - ------------------------------------ 10.7/317.0 MB 29.7 MB/s eta 0:00:11\n",
      "     - ------------------------------------ 13.0/317.0 MB 38.5 MB/s eta 0:00:08\n",
      "     - ------------------------------------ 14.2/317.0 MB 34.4 MB/s eta 0:00:09\n",
      "     - ------------------------------------ 15.6/317.0 MB 38.5 MB/s eta 0:00:08\n",
      "     -- ----------------------------------- 17.5/317.0 MB 38.5 MB/s eta 0:00:08\n",
      "     -- ----------------------------------- 20.1/317.0 MB 40.9 MB/s eta 0:00:08\n",
      "     -- ----------------------------------- 21.2/317.0 MB 36.4 MB/s eta 0:00:09\n",
      "     -- ----------------------------------- 23.6/317.0 MB 40.9 MB/s eta 0:00:08\n",
      "     -- ----------------------------------- 24.5/317.0 MB 36.4 MB/s eta 0:00:09\n",
      "     --- ---------------------------------- 27.0/317.0 MB 40.9 MB/s eta 0:00:08\n",
      "     --- ---------------------------------- 28.6/317.0 MB 40.9 MB/s eta 0:00:08\n",
      "     --- ---------------------------------- 30.4/317.0 MB 36.3 MB/s eta 0:00:08\n",
      "     --- ---------------------------------- 33.1/317.0 MB 40.9 MB/s eta 0:00:07\n",
      "     ---- --------------------------------- 35.4/317.0 MB 46.9 MB/s eta 0:00:07\n",
      "     ---- --------------------------------- 38.0/317.0 MB 46.9 MB/s eta 0:00:06\n",
      "     ---- --------------------------------- 40.3/317.0 MB 50.4 MB/s eta 0:00:06\n",
      "     ----- -------------------------------- 42.6/317.0 MB 50.4 MB/s eta 0:00:06\n",
      "     ----- -------------------------------- 44.2/317.0 MB 46.7 MB/s eta 0:00:06\n",
      "     ----- -------------------------------- 46.5/317.0 MB 46.7 MB/s eta 0:00:06\n",
      "     ----- -------------------------------- 48.9/317.0 MB 46.7 MB/s eta 0:00:06\n",
      "     ------ ------------------------------- 51.3/317.0 MB 46.7 MB/s eta 0:00:06\n",
      "     ------ ------------------------------- 53.9/317.0 MB 50.4 MB/s eta 0:00:06\n",
      "     ------ ------------------------------- 55.6/317.0 MB 46.9 MB/s eta 0:00:06\n",
      "     ------ ------------------------------- 58.3/317.0 MB 50.4 MB/s eta 0:00:06\n",
      "     ------- ------------------------------ 61.2/317.0 MB 50.4 MB/s eta 0:00:06\n",
      "     ------- ------------------------------ 63.3/317.0 MB 54.7 MB/s eta 0:00:05\n",
      "     ------- ------------------------------ 64.5/317.0 MB 43.5 MB/s eta 0:00:06\n",
      "     -------- ----------------------------- 66.9/317.0 MB 46.7 MB/s eta 0:00:06\n",
      "     -------- ----------------------------- 69.6/317.0 MB 46.7 MB/s eta 0:00:06\n",
      "     -------- ----------------------------- 72.0/317.0 MB 46.9 MB/s eta 0:00:06\n",
      "     -------- ----------------------------- 74.0/317.0 MB 50.4 MB/s eta 0:00:05\n",
      "     --------- ---------------------------- 76.4/317.0 MB 50.4 MB/s eta 0:00:05\n",
      "     --------- ---------------------------- 78.8/317.0 MB 50.4 MB/s eta 0:00:05\n",
      "     --------- ---------------------------- 81.2/317.0 MB 54.7 MB/s eta 0:00:05\n",
      "     ---------- --------------------------- 83.7/317.0 MB 46.7 MB/s eta 0:00:05\n",
      "     ---------- --------------------------- 85.9/317.0 MB 50.4 MB/s eta 0:00:05\n",
      "     ---------- --------------------------- 88.3/317.0 MB 50.1 MB/s eta 0:00:05\n",
      "     ---------- --------------------------- 91.1/317.0 MB 50.4 MB/s eta 0:00:05\n",
      "     ----------- -------------------------- 92.0/317.0 MB 54.7 MB/s eta 0:00:05\n",
      "     ----------- -------------------------- 94.0/317.0 MB 43.7 MB/s eta 0:00:06\n",
      "     ----------- -------------------------- 96.4/317.0 MB 43.7 MB/s eta 0:00:06\n",
      "     ----------- -------------------------- 99.2/317.0 MB 46.7 MB/s eta 0:00:05\n",
      "     ----------- ------------------------- 100.9/317.0 MB 43.7 MB/s eta 0:00:05\n",
      "     ------------ ------------------------ 103.2/317.0 MB 50.4 MB/s eta 0:00:05\n",
      "     ------------ ------------------------ 105.9/317.0 MB 50.1 MB/s eta 0:00:05\n",
      "     ------------ ------------------------ 108.0/317.0 MB 46.9 MB/s eta 0:00:05\n",
      "     ------------ ------------------------ 110.4/317.0 MB 46.9 MB/s eta 0:00:05\n",
      "     ------------- ----------------------- 113.3/317.0 MB 54.7 MB/s eta 0:00:04\n",
      "     ------------- ----------------------- 116.0/317.0 MB 54.7 MB/s eta 0:00:04\n",
      "     ------------- ----------------------- 117.7/317.0 MB 50.4 MB/s eta 0:00:04\n",
      "     -------------- ---------------------- 120.2/317.0 MB 50.4 MB/s eta 0:00:04\n",
      "     -------------- ---------------------- 122.4/317.0 MB 50.4 MB/s eta 0:00:04\n",
      "     -------------- ---------------------- 125.2/317.0 MB 50.1 MB/s eta 0:00:04\n",
      "     -------------- ---------------------- 126.4/317.0 MB 50.4 MB/s eta 0:00:04\n",
      "     --------------- --------------------- 128.7/317.0 MB 46.9 MB/s eta 0:00:05\n",
      "     --------------- --------------------- 131.2/317.0 MB 46.7 MB/s eta 0:00:04\n",
      "     --------------- --------------------- 133.6/317.0 MB 46.7 MB/s eta 0:00:04\n",
      "     --------------- --------------------- 135.3/317.0 MB 46.9 MB/s eta 0:00:04\n",
      "     --------------- --------------------- 135.8/317.0 MB 36.4 MB/s eta 0:00:05\n",
      "     ---------------- -------------------- 137.8/317.0 MB 38.5 MB/s eta 0:00:05\n",
      "     ---------------- -------------------- 139.8/317.0 MB 38.5 MB/s eta 0:00:05\n",
      "     ---------------- -------------------- 142.5/317.0 MB 38.6 MB/s eta 0:00:05\n",
      "     ---------------- -------------------- 145.1/317.0 MB 38.6 MB/s eta 0:00:05\n",
      "     ---------------- -------------------- 145.5/317.0 MB 36.3 MB/s eta 0:00:05\n",
      "     ----------------- ------------------- 147.6/317.0 MB 40.9 MB/s eta 0:00:05\n",
      "     ----------------- ------------------- 148.9/317.0 MB 38.5 MB/s eta 0:00:05\n",
      "     ----------------- ------------------- 150.8/317.0 MB 38.5 MB/s eta 0:00:05\n",
      "     ----------------- ------------------- 152.6/317.0 MB 36.3 MB/s eta 0:00:05\n",
      "     ----------------- ------------------- 154.1/317.0 MB 32.7 MB/s eta 0:00:05\n",
      "     ------------------ ------------------ 155.3/317.0 MB 32.7 MB/s eta 0:00:05\n",
      "     ------------------ ------------------ 156.1/317.0 MB 31.2 MB/s eta 0:00:06\n",
      "     ------------------ ------------------ 158.6/317.0 MB 34.4 MB/s eta 0:00:05\n",
      "     ------------------ ------------------ 160.7/317.0 MB 34.4 MB/s eta 0:00:05\n",
      "     ------------------- ----------------- 163.0/317.0 MB 36.4 MB/s eta 0:00:05\n",
      "     ------------------- ----------------- 164.6/317.0 MB 38.6 MB/s eta 0:00:04\n",
      "     ------------------- ----------------- 166.2/317.0 MB 40.9 MB/s eta 0:00:04\n",
      "     ------------------- ----------------- 167.9/317.0 MB 40.9 MB/s eta 0:00:04\n",
      "     ------------------- ----------------- 170.3/317.0 MB 40.9 MB/s eta 0:00:04\n",
      "     -------------------- ---------------- 171.9/317.0 MB 40.9 MB/s eta 0:00:04\n",
      "     -------------------- ---------------- 173.9/317.0 MB 38.6 MB/s eta 0:00:04\n",
      "     -------------------- ---------------- 176.1/317.0 MB 40.9 MB/s eta 0:00:04\n",
      "     -------------------- ---------------- 178.3/317.0 MB 43.7 MB/s eta 0:00:04\n",
      "     --------------------- --------------- 180.9/317.0 MB 43.5 MB/s eta 0:00:04\n",
      "     --------------------- --------------- 183.6/317.0 MB 54.4 MB/s eta 0:00:03\n",
      "     --------------------- --------------- 186.2/317.0 MB 54.4 MB/s eta 0:00:03\n",
      "     ---------------------- -------------- 188.6/317.0 MB 54.7 MB/s eta 0:00:03\n",
      "     ---------------------- -------------- 190.5/317.0 MB 50.4 MB/s eta 0:00:03\n",
      "     ---------------------- -------------- 192.7/317.0 MB 50.4 MB/s eta 0:00:03\n",
      "     ---------------------- -------------- 194.9/317.0 MB 46.7 MB/s eta 0:00:03\n",
      "     ----------------------- ------------- 197.5/317.0 MB 46.7 MB/s eta 0:00:03\n",
      "     ----------------------- ------------- 199.7/317.0 MB 46.7 MB/s eta 0:00:03\n",
      "     ----------------------- ------------- 201.7/317.0 MB 46.7 MB/s eta 0:00:03\n",
      "     ----------------------- ------------- 203.0/317.0 MB 50.4 MB/s eta 0:00:03\n",
      "     ----------------------- ------------- 204.0/317.0 MB 38.6 MB/s eta 0:00:03\n",
      "     ------------------------ ------------ 207.2/317.0 MB 43.5 MB/s eta 0:00:03\n",
      "     ------------------------ ------------ 209.4/317.0 MB 40.9 MB/s eta 0:00:03\n",
      "     ------------------------ ------------ 212.0/317.0 MB 43.7 MB/s eta 0:00:03\n",
      "     ------------------------ ------------ 214.0/317.0 MB 59.5 MB/s eta 0:00:02\n",
      "     ------------------------- ----------- 216.3/317.0 MB 46.7 MB/s eta 0:00:03\n",
      "     ------------------------- ----------- 217.5/317.0 MB 50.4 MB/s eta 0:00:02\n",
      "     ------------------------- ----------- 219.0/317.0 MB 40.9 MB/s eta 0:00:03\n",
      "     ------------------------- ----------- 221.1/317.0 MB 43.5 MB/s eta 0:00:03\n",
      "     ------------------------- ----------- 222.2/317.0 MB 36.4 MB/s eta 0:00:03\n",
      "     -------------------------- ---------- 224.6/317.0 MB 38.6 MB/s eta 0:00:03\n",
      "     -------------------------- ---------- 226.2/317.0 MB 38.6 MB/s eta 0:00:03\n",
      "     -------------------------- ---------- 228.1/317.0 MB 38.5 MB/s eta 0:00:03\n",
      "     -------------------------- ---------- 230.5/317.0 MB 38.5 MB/s eta 0:00:03\n",
      "     --------------------------- --------- 232.1/317.0 MB 43.7 MB/s eta 0:00:02\n",
      "     --------------------------- --------- 234.4/317.0 MB 40.9 MB/s eta 0:00:03\n",
      "     --------------------------- --------- 236.7/317.0 MB 50.4 MB/s eta 0:00:02\n",
      "     --------------------------- --------- 238.3/317.0 MB 43.7 MB/s eta 0:00:02\n",
      "     ---------------------------- -------- 240.7/317.0 MB 43.7 MB/s eta 0:00:02\n",
      "     ---------------------------- -------- 242.7/317.0 MB 46.7 MB/s eta 0:00:02\n",
      "     ---------------------------- -------- 245.6/317.0 MB 46.7 MB/s eta 0:00:02\n",
      "     ---------------------------- -------- 248.0/317.0 MB 50.4 MB/s eta 0:00:02\n",
      "     ----------------------------- ------- 250.3/317.0 MB 50.4 MB/s eta 0:00:02\n",
      "     ----------------------------- ------- 252.6/317.0 MB 54.4 MB/s eta 0:00:02\n",
      "     ----------------------------- ------- 253.7/317.0 MB 46.9 MB/s eta 0:00:02\n",
      "     ----------------------------- ------- 256.1/317.0 MB 43.7 MB/s eta 0:00:02\n",
      "     ------------------------------ ------ 258.3/317.0 MB 43.7 MB/s eta 0:00:02\n",
      "     ------------------------------ ------ 260.4/317.0 MB 43.7 MB/s eta 0:00:02\n",
      "     ------------------------------ ------ 262.6/317.0 MB 43.7 MB/s eta 0:00:02\n",
      "     ------------------------------ ------ 264.1/317.0 MB 43.5 MB/s eta 0:00:02\n",
      "     ------------------------------- ----- 266.6/317.0 MB 43.5 MB/s eta 0:00:02\n",
      "     ------------------------------- ----- 269.2/317.0 MB 46.7 MB/s eta 0:00:02\n",
      "     ------------------------------- ----- 270.1/317.0 MB 40.9 MB/s eta 0:00:02\n",
      "     ------------------------------- ----- 272.8/317.0 MB 40.9 MB/s eta 0:00:02\n",
      "     -------------------------------- ---- 274.9/317.0 MB 46.7 MB/s eta 0:00:01\n",
      "     -------------------------------- ---- 277.5/317.0 MB 46.7 MB/s eta 0:00:01\n",
      "     -------------------------------- ---- 279.4/317.0 MB 43.7 MB/s eta 0:00:01\n",
      "     -------------------------------- ---- 282.1/317.0 MB 50.4 MB/s eta 0:00:01\n",
      "     --------------------------------- --- 284.1/317.0 MB 46.7 MB/s eta 0:00:01\n",
      "     --------------------------------- --- 286.8/317.0 MB 50.1 MB/s eta 0:00:01\n",
      "     --------------------------------- --- 289.6/317.0 MB 54.7 MB/s eta 0:00:01\n",
      "     --------------------------------- --- 290.6/317.0 MB 46.9 MB/s eta 0:00:01\n",
      "     ---------------------------------- -- 293.3/317.0 MB 46.7 MB/s eta 0:00:01\n",
      "     ---------------------------------- -- 294.7/317.0 MB 46.7 MB/s eta 0:00:01\n",
      "     ---------------------------------- -- 297.3/317.0 MB 43.7 MB/s eta 0:00:01\n",
      "     ---------------------------------- -- 299.8/317.0 MB 43.5 MB/s eta 0:00:01\n",
      "     ----------------------------------- - 302.5/317.0 MB 50.4 MB/s eta 0:00:01\n",
      "     ----------------------------------- - 303.7/317.0 MB 50.4 MB/s eta 0:00:01\n",
      "     ----------------------------------- - 305.9/317.0 MB 46.9 MB/s eta 0:00:01\n",
      "     ------------------------------------  308.7/317.0 MB 46.9 MB/s eta 0:00:01\n",
      "     ------------------------------------  309.7/317.0 MB 46.7 MB/s eta 0:00:01\n",
      "     ------------------------------------  312.0/317.0 MB 43.7 MB/s eta 0:00:01\n",
      "     ------------------------------------  313.3/317.0 MB 36.4 MB/s eta 0:00:01\n",
      "     ------------------------------------  316.0/317.0 MB 43.5 MB/s eta 0:00:01\n",
      "     ------------------------------------  316.9/317.0 MB 40.9 MB/s eta 0:00:01\n",
      "     ------------------------------------  316.9/317.0 MB 40.9 MB/s eta 0:00:01\n",
      "     ------------------------------------  316.9/317.0 MB 40.9 MB/s eta 0:00:01\n",
      "     ------------------------------------  316.9/317.0 MB 40.9 MB/s eta 0:00:01\n",
      "     ------------------------------------  316.9/317.0 MB 40.9 MB/s eta 0:00:01\n",
      "     ------------------------------------  316.9/317.0 MB 40.9 MB/s eta 0:00:01\n",
      "     ------------------------------------  316.9/317.0 MB 40.9 MB/s eta 0:00:01\n",
      "     ------------------------------------  316.9/317.0 MB 40.9 MB/s eta 0:00:01\n",
      "     ------------------------------------  316.9/317.0 MB 40.9 MB/s eta 0:00:01\n",
      "     ------------------------------------  316.9/317.0 MB 40.9 MB/s eta 0:00:01\n",
      "     ------------------------------------  316.9/317.0 MB 40.9 MB/s eta 0:00:01\n",
      "     ------------------------------------  316.9/317.0 MB 40.9 MB/s eta 0:00:01\n",
      "     ------------------------------------- 317.0/317.0 MB 12.6 MB/s eta 0:00:00\n",
      "  Preparing metadata (setup.py): started\n",
      "  Preparing metadata (setup.py): finished with status 'done'\n",
      "Collecting py4j==0.10.9.7 (from pyspark)\n",
      "  Downloading py4j-0.10.9.7-py2.py3-none-any.whl.metadata (1.5 kB)\n",
      "Downloading py4j-0.10.9.7-py2.py3-none-any.whl (200 kB)\n",
      "   ---------------------------------------- 0.0/200.5 kB ? eta -:--:--\n",
      "   ---------------------------------------- 200.5/200.5 kB ? eta 0:00:00\n",
      "Building wheels for collected packages: pyspark\n",
      "  Building wheel for pyspark (setup.py): started\n",
      "  Building wheel for pyspark (setup.py): finished with status 'done'\n",
      "  Created wheel for pyspark: filename=pyspark-3.5.1-py2.py3-none-any.whl size=317488532 sha256=e1ab296eb887ca817c796147360f99959bf27978ae4914e63e1a25aa27231723\n",
      "  Stored in directory: c:\\users\\soyab\\appdata\\local\\pip\\cache\\wheels\\b1\\91\\5f\\283b53010a8016a4ff1c4a1edd99bbe73afacb099645b5471b\n",
      "Successfully built pyspark\n",
      "Installing collected packages: py4j, pyspark\n",
      "Successfully installed py4j-0.10.9.7 pyspark-3.5.1\n"
     ]
    }
   ],
   "source": [
    "!pip install pyspark"
   ]
  },
  {
   "cell_type": "code",
   "execution_count": 11,
   "id": "6d29b34b-6872-471f-a4d2-b3d5f243ed11",
   "metadata": {},
   "outputs": [],
   "source": [
    "import pyspark\n",
    "from pyspark.sql import SparkSession"
   ]
  },
  {
   "cell_type": "markdown",
   "id": "b8e189bf-4bcf-4b62-8355-3eaa8c9f5e25",
   "metadata": {},
   "source": [
    "### Dataset"
   ]
  },
  {
   "cell_type": "markdown",
   "id": "8067d9ee-474c-459b-ae72-93f3cf360af0",
   "metadata": {},
   "source": [
    "#### Initialize Spark Session"
   ]
  },
  {
   "cell_type": "code",
   "execution_count": 18,
   "id": "4938ffb6-a697-4493-a16c-d02b48537034",
   "metadata": {},
   "outputs": [
    {
     "data": {
      "text/html": [
       "\n",
       "            <div>\n",
       "                <p><b>SparkSession - in-memory</b></p>\n",
       "                \n",
       "        <div>\n",
       "            <p><b>SparkContext</b></p>\n",
       "\n",
       "            <p><a href=\"http://LAPTOP-C8K7UIF4:4040\">Spark UI</a></p>\n",
       "\n",
       "            <dl>\n",
       "              <dt>Version</dt>\n",
       "                <dd><code>v3.5.1</code></dd>\n",
       "              <dt>Master</dt>\n",
       "                <dd><code>local[*]</code></dd>\n",
       "              <dt>AppName</dt>\n",
       "                <dd><code>Practice</code></dd>\n",
       "            </dl>\n",
       "        </div>\n",
       "        \n",
       "            </div>\n",
       "        "
      ],
      "text/plain": [
       "<pyspark.sql.session.SparkSession at 0x1c7478aafc0>"
      ]
     },
     "execution_count": 18,
     "metadata": {},
     "output_type": "execute_result"
    }
   ],
   "source": [
    "spark = SparkSession.builder.appName('Practice').getOrCreate()\n",
    "\n",
    "spark"
   ]
  },
  {
   "cell_type": "markdown",
   "id": "7030243b-1703-487f-9d49-85440a15167f",
   "metadata": {},
   "source": [
    "#### Read .csv with headers"
   ]
  },
  {
   "cell_type": "code",
   "execution_count": 39,
   "id": "995b1205-7f25-4b7a-93d6-24b9def66880",
   "metadata": {},
   "outputs": [
    {
     "name": "stdout",
     "output_type": "stream",
     "text": [
      "+----+---+----------+\n",
      "|Name|Age|Experience|\n",
      "+----+---+----------+\n",
      "|   A| 20|         3|\n",
      "|   B| 30|         2|\n",
      "|   C| 40|         5|\n",
      "+----+---+----------+\n",
      "\n"
     ]
    }
   ],
   "source": [
    "df_pyspark = spark.read.csv('test1.csv', header=True, inferSchema=True)\n",
    "\n",
    "df_pyspark.show()"
   ]
  },
  {
   "cell_type": "code",
   "execution_count": 40,
   "id": "94a0fa4a-e596-4cb9-934c-b5489b861211",
   "metadata": {},
   "outputs": [
    {
     "data": {
      "text/plain": [
       "pyspark.sql.dataframe.DataFrame"
      ]
     },
     "execution_count": 40,
     "metadata": {},
     "output_type": "execute_result"
    }
   ],
   "source": [
    "type(df_pyspark)"
   ]
  },
  {
   "cell_type": "markdown",
   "id": "6f6209ea-3627-45e1-a3fa-1e27bf00ff1f",
   "metadata": {},
   "source": [
    "### Operations"
   ]
  },
  {
   "cell_type": "markdown",
   "id": "b184fc35-c3d6-4b9d-9c89-dbd35d456ab6",
   "metadata": {},
   "source": [
    "#### 1. Basic Operations"
   ]
  },
  {
   "cell_type": "code",
   "execution_count": 42,
   "id": "cd972f88-5f1f-40f8-b801-7321cdcc8abb",
   "metadata": {},
   "outputs": [
    {
     "name": "stdout",
     "output_type": "stream",
     "text": [
      "root\n",
      " |-- Name: string (nullable = true)\n",
      " |-- Age: integer (nullable = true)\n",
      " |-- Experience: integer (nullable = true)\n",
      "\n"
     ]
    }
   ],
   "source": [
    "# Check schema\n",
    "\n",
    "df_pyspark.printSchema()"
   ]
  },
  {
   "cell_type": "code",
   "execution_count": 51,
   "id": "63764d47-552a-4d96-bdf3-c81079c6d2c6",
   "metadata": {},
   "outputs": [
    {
     "name": "stdout",
     "output_type": "stream",
     "text": [
      "+-------+----+----+------------------+\n",
      "|summary|Name| Age|        Experience|\n",
      "+-------+----+----+------------------+\n",
      "|  count|   3|   3|                 3|\n",
      "|   mean|NULL|30.0|3.3333333333333335|\n",
      "| stddev|NULL|10.0|1.5275252316519465|\n",
      "|    min|   A|  20|                 2|\n",
      "|    max|   C|  40|                 5|\n",
      "+-------+----+----+------------------+\n",
      "\n"
     ]
    }
   ],
   "source": [
    "# Describe dataset\n",
    "\n",
    "df_pyspark.describe().show()"
   ]
  },
  {
   "cell_type": "code",
   "execution_count": 44,
   "id": "e4bb1ad6-1d80-4945-ba23-67a86439ee67",
   "metadata": {},
   "outputs": [
    {
     "data": {
      "text/plain": [
       "['Name', 'Age', 'Experience']"
      ]
     },
     "execution_count": 44,
     "metadata": {},
     "output_type": "execute_result"
    }
   ],
   "source": [
    "# Check column names\n",
    "\n",
    "df_pyspark.columns"
   ]
  },
  {
   "cell_type": "code",
   "execution_count": 47,
   "id": "29a5b1e0-d70d-44e2-b7c5-b4409bdf5187",
   "metadata": {},
   "outputs": [
    {
     "data": {
      "text/plain": [
       "[Row(Name='A', Age=20, Experience=3),\n",
       " Row(Name='B', Age=30, Experience=2),\n",
       " Row(Name='C', Age=40, Experience=5)]"
      ]
     },
     "execution_count": 47,
     "metadata": {},
     "output_type": "execute_result"
    }
   ],
   "source": [
    "# Head\n",
    "\n",
    "df_pyspark.head(3)"
   ]
  },
  {
   "cell_type": "code",
   "execution_count": 48,
   "id": "0d7253b2-63c2-4750-9e6c-827304aa2e29",
   "metadata": {},
   "outputs": [
    {
     "name": "stdout",
     "output_type": "stream",
     "text": [
      "+---+\n",
      "|Age|\n",
      "+---+\n",
      "| 20|\n",
      "| 30|\n",
      "| 40|\n",
      "+---+\n",
      "\n"
     ]
    }
   ],
   "source": [
    "# Select a column\n",
    "\n",
    "df_pyspark.select('Age').show()"
   ]
  },
  {
   "cell_type": "code",
   "execution_count": 49,
   "id": "a1d93ee7-d66a-42c2-8d18-b9116c6d3f6a",
   "metadata": {},
   "outputs": [
    {
     "name": "stdout",
     "output_type": "stream",
     "text": [
      "+----+---+\n",
      "|Name|Age|\n",
      "+----+---+\n",
      "|   A| 20|\n",
      "|   B| 30|\n",
      "|   C| 40|\n",
      "+----+---+\n",
      "\n"
     ]
    }
   ],
   "source": [
    "# Select multiple columns\n",
    "\n",
    "df_pyspark.select(['Name', 'Age']).show()"
   ]
  },
  {
   "cell_type": "code",
   "execution_count": 54,
   "id": "f7c18eb9-bdb7-46c1-bbdd-2e74be0b10a3",
   "metadata": {},
   "outputs": [
    {
     "name": "stdout",
     "output_type": "stream",
     "text": [
      "+----+---+----------+---------------------+\n",
      "|Name|Age|Experience|Experience in 2 Years|\n",
      "+----+---+----------+---------------------+\n",
      "|   A| 20|         3|                    5|\n",
      "|   B| 30|         2|                    4|\n",
      "|   C| 40|         5|                    7|\n",
      "+----+---+----------+---------------------+\n",
      "\n"
     ]
    }
   ],
   "source": [
    "# Add column(s)\n",
    "\n",
    "df_pyspark = df_pyspark.withColumn('Experience in 2 Years', df_pyspark['Experience'] + 2)\n",
    "\n",
    "df_pyspark.show()"
   ]
  },
  {
   "cell_type": "code",
   "execution_count": 56,
   "id": "b9133eec-89cd-4be8-b133-e089362df5d6",
   "metadata": {},
   "outputs": [
    {
     "name": "stdout",
     "output_type": "stream",
     "text": [
      "+----+---+----------+\n",
      "|Name|Age|Experience|\n",
      "+----+---+----------+\n",
      "|   A| 20|         3|\n",
      "|   B| 30|         2|\n",
      "|   C| 40|         5|\n",
      "+----+---+----------+\n",
      "\n"
     ]
    }
   ],
   "source": [
    "# Drop column(s)\n",
    "\n",
    "df_pyspark = df_pyspark.drop('Experience in 2 Years')\n",
    "\n",
    "df_pyspark.show()"
   ]
  },
  {
   "cell_type": "code",
   "execution_count": 58,
   "id": "2c58b5ad-3071-4e88-8d05-c89c6ea4ff58",
   "metadata": {},
   "outputs": [
    {
     "name": "stdout",
     "output_type": "stream",
     "text": [
      "+----+---+--------------+\n",
      "|Name|Age|Job Experience|\n",
      "+----+---+--------------+\n",
      "|   A| 20|             3|\n",
      "|   B| 30|             2|\n",
      "|   C| 40|             5|\n",
      "+----+---+--------------+\n",
      "\n"
     ]
    }
   ],
   "source": [
    "# Rename column(s)\n",
    "\n",
    "df_pyspark = df_pyspark.withColumnRenamed('Experience', 'Job Experience')\n",
    "\n",
    "df_pyspark.show()"
   ]
  },
  {
   "cell_type": "markdown",
   "id": "ca73dba8-379d-4981-a777-2fcf29b7cd1f",
   "metadata": {},
   "source": [
    "#### 2. Missing Values"
   ]
  },
  {
   "cell_type": "code",
   "execution_count": 63,
   "id": "b298f0ca-eb45-4a60-b84c-e9a16b95113f",
   "metadata": {},
   "outputs": [
    {
     "name": "stdout",
     "output_type": "stream",
     "text": [
      "+----+---+----------+----+\n",
      "|Name|Age|Experience|Wage|\n",
      "+----+---+----------+----+\n",
      "|   A| 20|         3|  30|\n",
      "|   B| 30|         2|  27|\n",
      "|   C| 40|         5|  45|\n",
      "|NULL| 23|      NULL|  28|\n",
      "|   E| 43|         6|  75|\n",
      "|   F| 27|         2|NULL|\n",
      "+----+---+----------+----+\n",
      "\n"
     ]
    }
   ],
   "source": [
    "df_pyspark = spark.read.csv('test1.csv', header=True, inferSchema=True)\n",
    "\n",
    "df_pyspark.show()"
   ]
  },
  {
   "cell_type": "markdown",
   "id": "7d6c06e7-1649-49f9-b6bf-8c22b31329f1",
   "metadata": {},
   "source": [
    "##### Drop NaNs"
   ]
  },
  {
   "cell_type": "code",
   "execution_count": 65,
   "id": "aa41b747-409b-4e58-9c01-3f506d1baea9",
   "metadata": {},
   "outputs": [
    {
     "name": "stdout",
     "output_type": "stream",
     "text": [
      "+----+---+----------+----+\n",
      "|Name|Age|Experience|Wage|\n",
      "+----+---+----------+----+\n",
      "|   A| 20|         3|  30|\n",
      "|   B| 30|         2|  27|\n",
      "|   C| 40|         5|  45|\n",
      "|   E| 43|         6|  75|\n",
      "+----+---+----------+----+\n",
      "\n"
     ]
    }
   ],
   "source": [
    "# Drop NA\n",
    "\n",
    "df_pyspark.na.drop().show()"
   ]
  },
  {
   "cell_type": "code",
   "execution_count": 69,
   "id": "f3db0a1b-bf35-4f56-81eb-f630654063cb",
   "metadata": {},
   "outputs": [
    {
     "name": "stdout",
     "output_type": "stream",
     "text": [
      "+----+---+----------+----+\n",
      "|Name|Age|Experience|Wage|\n",
      "+----+---+----------+----+\n",
      "|   A| 20|         3|  30|\n",
      "|   B| 30|         2|  27|\n",
      "|   C| 40|         5|  45|\n",
      "|   E| 43|         6|  75|\n",
      "+----+---+----------+----+\n",
      "\n"
     ]
    }
   ],
   "source": [
    "# Drop NA with how parameter\n",
    "\n",
    "df_pyspark.na.drop(how='any').show()"
   ]
  },
  {
   "cell_type": "code",
   "execution_count": 92,
   "id": "2278e09c-819d-48cc-9402-7d8ddf960f18",
   "metadata": {
    "scrolled": true
   },
   "outputs": [
    {
     "name": "stdout",
     "output_type": "stream",
     "text": [
      "+----+---+----------+----+\n",
      "|Name|Age|Experience|Wage|\n",
      "+----+---+----------+----+\n",
      "|   A| 20|         3|  30|\n",
      "|   B| 30|         2|  27|\n",
      "|   C| 40|         5|  45|\n",
      "|   E| 43|         6|  75|\n",
      "|   F| 27|         2|NULL|\n",
      "+----+---+----------+----+\n",
      "\n"
     ]
    }
   ],
   "source": [
    "# Drop NA with thresh parameter\n",
    "\n",
    "# thresh: drop rows that have less than `thresh` non-null values\n",
    "\n",
    "df_pyspark.na.drop(thresh=3).show()"
   ]
  },
  {
   "cell_type": "code",
   "execution_count": 93,
   "id": "93d91895-b003-4a89-af73-5b1f6bd3bc8c",
   "metadata": {},
   "outputs": [
    {
     "name": "stdout",
     "output_type": "stream",
     "text": [
      "+----+---+----------+----+\n",
      "|Name|Age|Experience|Wage|\n",
      "+----+---+----------+----+\n",
      "|   A| 20|         3|  30|\n",
      "|   B| 30|         2|  27|\n",
      "|   C| 40|         5|  45|\n",
      "|   E| 43|         6|  75|\n",
      "|   F| 27|         2|NULL|\n",
      "+----+---+----------+----+\n",
      "\n"
     ]
    }
   ],
   "source": [
    "# Drop NA with subset parameter\n",
    "\n",
    "df_pyspark.na.drop(subset=['Experience']).show()"
   ]
  },
  {
   "cell_type": "markdown",
   "id": "7d0800a8-c57c-4d59-a9ea-e335dd087df5",
   "metadata": {},
   "source": [
    "##### Fill NaNs"
   ]
  },
  {
   "cell_type": "code",
   "execution_count": 97,
   "id": "db76a2fe-dc29-403b-b1f6-443eb8d24e92",
   "metadata": {},
   "outputs": [
    {
     "name": "stdout",
     "output_type": "stream",
     "text": [
      "+-------------+---+----------+----+\n",
      "|         Name|Age|Experience|Wage|\n",
      "+-------------+---+----------+----+\n",
      "|            A| 20|         3|  30|\n",
      "|            B| 30|         2|  27|\n",
      "|            C| 40|         5|  45|\n",
      "|NOT AVAILABLE| 23|      NULL|  28|\n",
      "|            E| 43|         6|  75|\n",
      "|            F| 27|         2|NULL|\n",
      "+-------------+---+----------+----+\n",
      "\n"
     ]
    }
   ],
   "source": [
    "# Fill strings\n",
    "\n",
    "df_pyspark.na.fill('NOT AVAILABLE', ['Name']).show()"
   ]
  },
  {
   "cell_type": "code",
   "execution_count": 99,
   "id": "420cbc10-f746-4984-a141-146406dd3697",
   "metadata": {},
   "outputs": [
    {
     "name": "stdout",
     "output_type": "stream",
     "text": [
      "+----+---+----------+----+\n",
      "|Name|Age|Experience|Wage|\n",
      "+----+---+----------+----+\n",
      "|   A| 20|         3|  30|\n",
      "|   B| 30|         2|  27|\n",
      "|   C| 40|         5|  45|\n",
      "|NULL| 23|         0|  28|\n",
      "|   E| 43|         6|  75|\n",
      "|   F| 27|         2|NULL|\n",
      "+----+---+----------+----+\n",
      "\n"
     ]
    }
   ],
   "source": [
    "# Fill integers\n",
    "\n",
    "df_pyspark.na.fill(0, ['Experience']).show()"
   ]
  },
  {
   "cell_type": "markdown",
   "id": "41f6a7b4-67a1-4f81-917e-843ffcde3f78",
   "metadata": {},
   "source": [
    "##### Impute NaNs"
   ]
  },
  {
   "cell_type": "code",
   "execution_count": 106,
   "id": "b6390d1d-b340-45c4-b1bc-0437549bc6a7",
   "metadata": {},
   "outputs": [],
   "source": [
    "from pyspark.ml.feature import Imputer\n",
    "\n",
    "imputer = Imputer(\n",
    "    inputCols=['Age', 'Experience', 'Wage'],\n",
    "    outputCols=[\"{}_imputed\".format(c) for c in ['Age', 'Experience', 'Wage']]\n",
    ").setStrategy('mean')"
   ]
  },
  {
   "cell_type": "code",
   "execution_count": 107,
   "id": "2aaac558-8d22-4c5d-9b31-ef89c1b6a4ab",
   "metadata": {},
   "outputs": [
    {
     "name": "stdout",
     "output_type": "stream",
     "text": [
      "+----+---+----------+----+-----------+------------------+------------+\n",
      "|Name|Age|Experience|Wage|Age_imputed|Experience_imputed|Wage_imputed|\n",
      "+----+---+----------+----+-----------+------------------+------------+\n",
      "|   A| 20|         3|  30|         20|                 3|          30|\n",
      "|   B| 30|         2|  27|         30|                 2|          27|\n",
      "|   C| 40|         5|  45|         40|                 5|          45|\n",
      "|NULL| 23|      NULL|  28|         23|                 3|          28|\n",
      "|   E| 43|         6|  75|         43|                 6|          75|\n",
      "|   F| 27|         2|NULL|         27|                 2|          41|\n",
      "+----+---+----------+----+-----------+------------------+------------+\n",
      "\n"
     ]
    }
   ],
   "source": [
    "imputer.fit(df_pyspark).transform(df_pyspark).show()"
   ]
  },
  {
   "cell_type": "markdown",
   "id": "b62c20ae-c01f-4404-8990-cc5b6821a874",
   "metadata": {},
   "source": [
    "### Filter Operations"
   ]
  },
  {
   "cell_type": "code",
   "execution_count": 110,
   "id": "9d6f4843-caa5-479f-8b7f-81a68d2e049d",
   "metadata": {},
   "outputs": [
    {
     "name": "stdout",
     "output_type": "stream",
     "text": [
      "+----+---+----------+----+\n",
      "|Name|Age|Experience|Wage|\n",
      "+----+---+----------+----+\n",
      "|   C| 40|         5|  45|\n",
      "|   E| 43|         6|  75|\n",
      "+----+---+----------+----+\n",
      "\n"
     ]
    }
   ],
   "source": [
    "# Method 1\n",
    "\n",
    "df_pyspark.filter('Wage > 30').show()"
   ]
  },
  {
   "cell_type": "code",
   "execution_count": 111,
   "id": "76ff984b-fad9-44a2-ae55-048dd8593eb5",
   "metadata": {},
   "outputs": [
    {
     "name": "stdout",
     "output_type": "stream",
     "text": [
      "+----+---+----------+----+\n",
      "|Name|Age|Experience|Wage|\n",
      "+----+---+----------+----+\n",
      "|   C| 40|         5|  45|\n",
      "|   E| 43|         6|  75|\n",
      "+----+---+----------+----+\n",
      "\n"
     ]
    }
   ],
   "source": [
    "# Method 2\n",
    "\n",
    "df_pyspark.filter(df_pyspark['Wage'] > 30).show()"
   ]
  },
  {
   "cell_type": "code",
   "execution_count": 113,
   "id": "827fde32-c7f4-449b-ac9c-91008054aca3",
   "metadata": {},
   "outputs": [
    {
     "name": "stdout",
     "output_type": "stream",
     "text": [
      "+----+---+----------+----+\n",
      "|Name|Age|Experience|Wage|\n",
      "+----+---+----------+----+\n",
      "|   B| 30|         2|  27|\n",
      "|NULL| 23|      NULL|  28|\n",
      "+----+---+----------+----+\n",
      "\n"
     ]
    }
   ],
   "source": [
    "# Multiple filter operations\n",
    "\n",
    "df_pyspark.filter((df_pyspark['Wage'] > 20) & (df_pyspark['Wage'] < 30)).show()"
   ]
  },
  {
   "cell_type": "markdown",
   "id": "fb9fdee7-ae00-4ca3-994c-695c43b0672e",
   "metadata": {},
   "source": [
    "### Groupby"
   ]
  },
  {
   "cell_type": "code",
   "execution_count": 119,
   "id": "48bf795f-db68-4350-8a02-ca4098439a1d",
   "metadata": {},
   "outputs": [
    {
     "name": "stdout",
     "output_type": "stream",
     "text": [
      "+----------+--------+---------------+---------+\n",
      "|Experience|avg(Age)|avg(Experience)|avg(Wage)|\n",
      "+----------+--------+---------------+---------+\n",
      "|      NULL|    23.0|           NULL|     28.0|\n",
      "|         6|    43.0|            6.0|     75.0|\n",
      "|         3|    20.0|            3.0|     30.0|\n",
      "|         5|    40.0|            5.0|     45.0|\n",
      "|         2|    28.5|            2.0|     27.0|\n",
      "+----------+--------+---------------+---------+\n",
      "\n"
     ]
    }
   ],
   "source": [
    "df_pyspark.groupBy('Experience').mean().show()"
   ]
  },
  {
   "cell_type": "code",
   "execution_count": 120,
   "id": "2418422b-a309-4936-82b2-2eb599ed4c89",
   "metadata": {},
   "outputs": [
    {
     "name": "stdout",
     "output_type": "stream",
     "text": [
      "+----------+-----+\n",
      "|Experience|count|\n",
      "+----------+-----+\n",
      "|      NULL|    1|\n",
      "|         6|    1|\n",
      "|         3|    1|\n",
      "|         5|    1|\n",
      "|         2|    2|\n",
      "+----------+-----+\n",
      "\n"
     ]
    }
   ],
   "source": [
    "df_pyspark.groupBy('Experience').count().show()"
   ]
  },
  {
   "cell_type": "markdown",
   "id": "5f0856ed-87a1-41e9-b93e-16ccf17c2df7",
   "metadata": {},
   "source": [
    "### Aggregate"
   ]
  },
  {
   "cell_type": "code",
   "execution_count": 123,
   "id": "d9ab8800-faf3-49c8-b16b-0196133032de",
   "metadata": {},
   "outputs": [
    {
     "name": "stdout",
     "output_type": "stream",
     "text": [
      "+-----------+\n",
      "|count(Name)|\n",
      "+-----------+\n",
      "|          5|\n",
      "+-----------+\n",
      "\n"
     ]
    }
   ],
   "source": [
    "df_pyspark.agg({'Name': 'count'}).show()"
   ]
  },
  {
   "cell_type": "markdown",
   "id": "05829df4-712f-4490-a8d7-f6c15663d82a",
   "metadata": {},
   "source": [
    "### Stop Session"
   ]
  },
  {
   "cell_type": "code",
   "execution_count": 124,
   "id": "d536303e-8be9-45cb-a923-78ab88b0dedd",
   "metadata": {},
   "outputs": [],
   "source": [
    "spark.stop()"
   ]
  },
  {
   "cell_type": "code",
   "execution_count": null,
   "id": "bc91b3f9-8944-4ffa-977d-eb2e6e99128b",
   "metadata": {},
   "outputs": [],
   "source": []
  }
 ],
 "metadata": {
  "kernelspec": {
   "display_name": "Python 3 (ipykernel)",
   "language": "python",
   "name": "python3"
  },
  "language_info": {
   "codemirror_mode": {
    "name": "ipython",
    "version": 3
   },
   "file_extension": ".py",
   "mimetype": "text/x-python",
   "name": "python",
   "nbconvert_exporter": "python",
   "pygments_lexer": "ipython3",
   "version": "3.12.4"
  }
 },
 "nbformat": 4,
 "nbformat_minor": 5
}
