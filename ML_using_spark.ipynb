{
 "cells": [
  {
   "cell_type": "markdown",
   "id": "b0c8b6d5-7c94-47f5-bede-8caadacf26bb",
   "metadata": {},
   "source": [
    "### Dependencies"
   ]
  },
  {
   "cell_type": "code",
   "execution_count": 42,
   "id": "760b9528-d1e5-416e-968b-fe6462e26948",
   "metadata": {},
   "outputs": [],
   "source": [
    "import pyspark\n",
    "from pyspark.sql import SparkSession\n",
    "from pyspark.ml.feature import VectorAssembler\n",
    "from pyspark.ml.regression import LinearRegression"
   ]
  },
  {
   "cell_type": "markdown",
   "id": "d29e5dc9-42a1-404e-bb07-ea89bb263b27",
   "metadata": {},
   "source": [
    "### Dataset"
   ]
  },
  {
   "cell_type": "markdown",
   "id": "9af5d690-9109-49a8-81da-5fdcdb93fd62",
   "metadata": {},
   "source": [
    "#### Initialize Spark Session"
   ]
  },
  {
   "cell_type": "code",
   "execution_count": 18,
   "id": "15800d8b-97d5-4444-807a-e13d15c1c2cc",
   "metadata": {},
   "outputs": [
    {
     "data": {
      "text/html": [
       "\n",
       "            <div>\n",
       "                <p><b>SparkSession - in-memory</b></p>\n",
       "                \n",
       "        <div>\n",
       "            <p><b>SparkContext</b></p>\n",
       "\n",
       "            <p><a href=\"http://LAPTOP-C8K7UIF4:4040\">Spark UI</a></p>\n",
       "\n",
       "            <dl>\n",
       "              <dt>Version</dt>\n",
       "                <dd><code>v3.5.1</code></dd>\n",
       "              <dt>Master</dt>\n",
       "                <dd><code>local[*]</code></dd>\n",
       "              <dt>AppName</dt>\n",
       "                <dd><code>Practice</code></dd>\n",
       "            </dl>\n",
       "        </div>\n",
       "        \n",
       "            </div>\n",
       "        "
      ],
      "text/plain": [
       "<pyspark.sql.session.SparkSession at 0x2747f6db650>"
      ]
     },
     "execution_count": 18,
     "metadata": {},
     "output_type": "execute_result"
    }
   ],
   "source": [
    "spark = SparkSession.builder.appName('Practice').getOrCreate()\n",
    "\n",
    "spark"
   ]
  },
  {
   "cell_type": "code",
   "execution_count": 35,
   "id": "bf0d2789-1e39-4731-8c2a-2d47ac18740e",
   "metadata": {},
   "outputs": [
    {
     "name": "stdout",
     "output_type": "stream",
     "text": [
      "+----+---+----------+----+\n",
      "|Name|Age|Experience|Wage|\n",
      "+----+---+----------+----+\n",
      "|   A| 20|         3|  30|\n",
      "|   B| 30|         2|  27|\n",
      "|   C| 40|         5|  45|\n",
      "|   D| 23|         2|  28|\n",
      "|   E| 43|         6|  75|\n",
      "|   F| 27|         2|  32|\n",
      "+----+---+----------+----+\n",
      "\n"
     ]
    }
   ],
   "source": [
    "training = spark.read.csv('test2.csv', header=True, inferSchema=True)\n",
    "\n",
    "training.show()"
   ]
  },
  {
   "cell_type": "code",
   "execution_count": 36,
   "id": "fffdc689-84d7-48ed-a7c7-d03ca2777b65",
   "metadata": {},
   "outputs": [
    {
     "name": "stdout",
     "output_type": "stream",
     "text": [
      "root\n",
      " |-- Name: string (nullable = true)\n",
      " |-- Age: integer (nullable = true)\n",
      " |-- Experience: integer (nullable = true)\n",
      " |-- Wage: integer (nullable = true)\n",
      "\n"
     ]
    }
   ],
   "source": [
    "training.printSchema()"
   ]
  },
  {
   "cell_type": "code",
   "execution_count": 37,
   "id": "1ab74008-07af-4a03-91d6-a182837a324e",
   "metadata": {},
   "outputs": [],
   "source": [
    "featureassembler = VectorAssembler(inputCols=['Age', 'Experience'], outputCol='Independent Variables')"
   ]
  },
  {
   "cell_type": "code",
   "execution_count": 38,
   "id": "d7c80e4a-34d7-4bb1-af31-34f37beaf815",
   "metadata": {},
   "outputs": [],
   "source": [
    "output = featureassembler.transform(training)"
   ]
  },
  {
   "cell_type": "code",
   "execution_count": 39,
   "id": "15197a42-419b-4f5c-bb98-8d4be46f8b1d",
   "metadata": {},
   "outputs": [
    {
     "name": "stdout",
     "output_type": "stream",
     "text": [
      "+----+---+----------+----+---------------------+\n",
      "|Name|Age|Experience|Wage|Independent Variables|\n",
      "+----+---+----------+----+---------------------+\n",
      "|   A| 20|         3|  30|           [20.0,3.0]|\n",
      "|   B| 30|         2|  27|           [30.0,2.0]|\n",
      "|   C| 40|         5|  45|           [40.0,5.0]|\n",
      "|   D| 23|         2|  28|           [23.0,2.0]|\n",
      "|   E| 43|         6|  75|           [43.0,6.0]|\n",
      "|   F| 27|         2|  32|           [27.0,2.0]|\n",
      "+----+---+----------+----+---------------------+\n",
      "\n"
     ]
    }
   ],
   "source": [
    "output.show()"
   ]
  },
  {
   "cell_type": "code",
   "execution_count": 41,
   "id": "ed37f3a5-0cd7-41ac-9f85-ba158305fe60",
   "metadata": {},
   "outputs": [
    {
     "name": "stdout",
     "output_type": "stream",
     "text": [
      "+---------------------+----+\n",
      "|Independent Variables|Wage|\n",
      "+---------------------+----+\n",
      "|           [20.0,3.0]|  30|\n",
      "|           [30.0,2.0]|  27|\n",
      "|           [40.0,5.0]|  45|\n",
      "|           [23.0,2.0]|  28|\n",
      "|           [43.0,6.0]|  75|\n",
      "|           [27.0,2.0]|  32|\n",
      "+---------------------+----+\n",
      "\n"
     ]
    }
   ],
   "source": [
    "final_data = output.select(['Independent Variables', 'Wage'])\n",
    "\n",
    "final_data.show()"
   ]
  },
  {
   "cell_type": "markdown",
   "id": "272f06b3-0f95-49bb-960a-81202de57467",
   "metadata": {},
   "source": [
    "### Modeling"
   ]
  },
  {
   "cell_type": "code",
   "execution_count": 43,
   "id": "b23e90b5-319d-41ca-ace8-b09c2229da50",
   "metadata": {},
   "outputs": [],
   "source": [
    "train, test = final_data.randomSplit([0.80, 0.20])"
   ]
  },
  {
   "cell_type": "code",
   "execution_count": 44,
   "id": "8fe9a292-af47-485c-b1b0-5a0ba3c01689",
   "metadata": {},
   "outputs": [],
   "source": [
    "regressor = LinearRegression(featuresCol='Independent Variables', labelCol='Wage')"
   ]
  },
  {
   "cell_type": "code",
   "execution_count": 45,
   "id": "a585a814-4522-4738-8ec9-099c9b7f6d8e",
   "metadata": {},
   "outputs": [],
   "source": [
    "model = regressor.fit(train)"
   ]
  },
  {
   "cell_type": "code",
   "execution_count": 48,
   "id": "aee2ad61-4443-4e23-bc6e-e49aef50c196",
   "metadata": {},
   "outputs": [
    {
     "name": "stdout",
     "output_type": "stream",
     "text": [
      "+---------------------+----+-----------------+\n",
      "|Independent Variables|Wage|       prediction|\n",
      "+---------------------+----+-----------------+\n",
      "|           [30.0,2.0]|  27|35.77103960396052|\n",
      "|           [40.0,5.0]|  45|65.45792079207926|\n",
      "+---------------------+----+-----------------+\n",
      "\n"
     ]
    }
   ],
   "source": [
    "predictions = model.evaluate(test)\n",
    "\n",
    "predictions.predictions.show()"
   ]
  },
  {
   "cell_type": "code",
   "execution_count": 49,
   "id": "878f4478-2812-4333-8ad5-7d638e2d9235",
   "metadata": {},
   "outputs": [
    {
     "name": "stdout",
     "output_type": "stream",
     "text": [
      "14.61448019801989 247.72882943461647\n"
     ]
    }
   ],
   "source": [
    "print(predictions.meanAbsoluteError, predictions.meanSquaredError)"
   ]
  },
  {
   "cell_type": "code",
   "execution_count": null,
   "id": "e991fbe8-704f-4797-95c4-95993126bcac",
   "metadata": {},
   "outputs": [],
   "source": []
  }
 ],
 "metadata": {
  "kernelspec": {
   "display_name": "Python 3 (ipykernel)",
   "language": "python",
   "name": "python3"
  },
  "language_info": {
   "codemirror_mode": {
    "name": "ipython",
    "version": 3
   },
   "file_extension": ".py",
   "mimetype": "text/x-python",
   "name": "python",
   "nbconvert_exporter": "python",
   "pygments_lexer": "ipython3",
   "version": "3.12.4"
  }
 },
 "nbformat": 4,
 "nbformat_minor": 5
}
